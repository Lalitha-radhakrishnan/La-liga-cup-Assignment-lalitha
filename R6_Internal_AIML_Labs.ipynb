{
  "nbformat": 4,
  "nbformat_minor": 0,
  "metadata": {
    "colab": {
      "name": "R6_Internal_AIML_Labs.ipynb",
      "provenance": [],
      "collapsed_sections": [],
      "include_colab_link": true
    },
    "kernelspec": {
      "display_name": "Python 3",
      "language": "python",
      "name": "python3"
    },
    "language_info": {
      "codemirror_mode": {
        "name": "ipython",
        "version": 3
      },
      "file_extension": ".py",
      "mimetype": "text/x-python",
      "name": "python",
      "nbconvert_exporter": "python",
      "pygments_lexer": "ipython3",
      "version": "3.7.3"
    }
  },
  "cells": [
    {
      "cell_type": "markdown",
      "metadata": {
        "id": "view-in-github",
        "colab_type": "text"
      },
      "source": [
        "<a href=\"https://colab.research.google.com/github/Lalitha-radhakrishnan/La-liga-cup-Assignment-lalitha/blob/master/R6_Internal_AIML_Labs.ipynb\" target=\"_parent\"><img src=\"https://colab.research.google.com/assets/colab-badge.svg\" alt=\"Open In Colab\"/></a>"
      ]
    },
    {
      "cell_type": "markdown",
      "metadata": {
        "colab_type": "text",
        "id": "zUZjPnVXGz0Z"
      },
      "source": [
        "# The Iris Dataset\n",
        "The data set consists of 50 samples from each of three species of Iris (Iris setosa, Iris virginica and Iris versicolor). Four features were measured from each sample: the length and the width of the sepals and petals, in centimeters.\n",
        "\n",
        "The dataset contains a set of 150 records under five attributes - petal length, petal width, sepal length, sepal width and species."
      ]
    },
    {
      "cell_type": "markdown",
      "metadata": {
        "colab_type": "text",
        "id": "RMbmpriavLE9"
      },
      "source": [
        "### Specifying the TensorFlow version\n",
        "Running `import tensorflow` will import the default version (currently 1.x). You can use 2.x by running a cell with the `tensorflow_version` magic **before** you run `import tensorflow`."
      ]
    },
    {
      "cell_type": "code",
      "metadata": {
        "colab_type": "code",
        "id": "fu8bUU__oa7h",
        "colab": {}
      },
      "source": [
        "%tensorflow_version 2.x"
      ],
      "execution_count": 0,
      "outputs": []
    },
    {
      "cell_type": "markdown",
      "metadata": {
        "colab_type": "text",
        "id": "bLz1Ckvfvn6D"
      },
      "source": [
        "### Import TensorFlow\n",
        "Once you have specified a version via this magic, you can run `import tensorflow` as normal and verify which version was imported as follows:"
      ]
    },
    {
      "cell_type": "code",
      "metadata": {
        "colab_type": "code",
        "id": "CWrzVTLOvn6M",
        "colab": {
          "base_uri": "https://localhost:8080/",
          "height": 34
        },
        "outputId": "fc4a4d12-a175-4f77-d364-3c0093b2ea6f"
      },
      "source": [
        "import tensorflow as tf\n",
        "print(tf.__version__)"
      ],
      "execution_count": 24,
      "outputs": [
        {
          "output_type": "stream",
          "text": [
            "2.0.0\n"
          ],
          "name": "stdout"
        }
      ]
    },
    {
      "cell_type": "markdown",
      "metadata": {
        "colab_type": "text",
        "id": "_uYeJgkNuXNC"
      },
      "source": [
        "### Set random seed"
      ]
    },
    {
      "cell_type": "code",
      "metadata": {
        "colab_type": "code",
        "id": "lcASNsewsfQX",
        "colab": {}
      },
      "source": [
        "tf.random.set_seed(42)"
      ],
      "execution_count": 0,
      "outputs": []
    },
    {
      "cell_type": "markdown",
      "metadata": {
        "colab_type": "text",
        "id": "5-vVQBBqg7DI"
      },
      "source": [
        "## Question 1"
      ]
    },
    {
      "cell_type": "markdown",
      "metadata": {
        "colab_type": "text",
        "id": "kE0EDKvQhEIe"
      },
      "source": [
        "### Import dataset\n",
        "- Import iris dataset\n",
        "- Import the dataset using sklearn library"
      ]
    },
    {
      "cell_type": "code",
      "metadata": {
        "colab_type": "code",
        "id": "IOOWpD26Haq3",
        "colab": {}
      },
      "source": [
        "import tensorflow as tf\n",
        "import numpy as numpy\n",
        "import pandas as pandas\n",
        "\n",
        "\n",
        "\n",
        "from sklearn import datasets\n",
        "iris = datasets.load_iris()"
      ],
      "execution_count": 0,
      "outputs": []
    },
    {
      "cell_type": "code",
      "metadata": {
        "id": "3V1P-d4gwoMH",
        "colab_type": "code",
        "colab": {
          "base_uri": "https://localhost:8080/",
          "height": 34
        },
        "outputId": "150e063a-fda6-4b28-b83b-d0f47a2acf32"
      },
      "source": [
        "type(iris)"
      ],
      "execution_count": 27,
      "outputs": [
        {
          "output_type": "execute_result",
          "data": {
            "text/plain": [
              "sklearn.utils.Bunch"
            ]
          },
          "metadata": {
            "tags": []
          },
          "execution_count": 27
        }
      ]
    },
    {
      "cell_type": "markdown",
      "metadata": {
        "colab_type": "text",
        "id": "ta8YqInTh5v5"
      },
      "source": [
        "## Question 2"
      ]
    },
    {
      "cell_type": "markdown",
      "metadata": {
        "colab_type": "text",
        "id": "HERt3drbhX0i"
      },
      "source": [
        "### Get features and label from the dataset in separate variable\n",
        "- you can get the features using .data method\n",
        "- you can get the features using .target method"
      ]
    },
    {
      "cell_type": "code",
      "metadata": {
        "colab_type": "code",
        "id": "0cV-_qHAHyvE",
        "colab": {}
      },
      "source": [
        "X = iris.data\n",
        "y = iris.target"
      ],
      "execution_count": 0,
      "outputs": []
    },
    {
      "cell_type": "code",
      "metadata": {
        "id": "TYE19NFYyMcm",
        "colab_type": "code",
        "colab": {
          "base_uri": "https://localhost:8080/",
          "height": 34
        },
        "outputId": "c897b496-710a-474f-f102-5869bbc69774"
      },
      "source": [
        "print(iris.data.shape)"
      ],
      "execution_count": 29,
      "outputs": [
        {
          "output_type": "stream",
          "text": [
            "(150, 4)\n"
          ],
          "name": "stdout"
        }
      ]
    },
    {
      "cell_type": "markdown",
      "metadata": {
        "colab_type": "text",
        "id": "Qg1A2lkUjFak"
      },
      "source": [
        "## Question 3"
      ]
    },
    {
      "cell_type": "markdown",
      "metadata": {
        "colab_type": "text",
        "id": "3YErwYLCH0N_"
      },
      "source": [
        "### Create train and test data\n",
        "- use train_test_split to get train and test set\n",
        "- set a random_state\n",
        "- test_size: 0.25"
      ]
    },
    {
      "cell_type": "code",
      "metadata": {
        "colab_type": "code",
        "id": "TYKNJL85h7pQ",
        "colab": {}
      },
      "source": [
        "from sklearn import datasets\n",
        "iris = datasets.load_iris()\n",
        "\n",
        "from sklearn.model_selection import train_test_split\n",
        "X_train, X_test, y_train, y_test = train_test_split(X, y, random_state=0, test_size=0.25)"
      ],
      "execution_count": 0,
      "outputs": []
    },
    {
      "cell_type": "markdown",
      "metadata": {
        "colab_type": "text",
        "id": "g0KVP17Ozaix"
      },
      "source": [
        "## Question 4"
      ]
    },
    {
      "cell_type": "markdown",
      "metadata": {
        "colab_type": "text",
        "id": "SIjqxbhWv1zv"
      },
      "source": [
        "### One-hot encode the labels\n",
        "- convert class vectors (integers) to binary class matrix\n",
        "- convert labels\n",
        "- number of classes: 3\n",
        "- we are doing this to use categorical_crossentropy as loss"
      ]
    },
    {
      "cell_type": "code",
      "metadata": {
        "id": "HVZubk0cy3R7",
        "colab_type": "code",
        "colab": {}
      },
      "source": [
        ""
      ],
      "execution_count": 0,
      "outputs": []
    },
    {
      "cell_type": "code",
      "metadata": {
        "colab_type": "code",
        "id": "R9vv-_gpyLY9",
        "colab": {}
      },
      "source": [
        "y_train = tf.keras.utils.to_categorical(y_train, num_classes=3)\n",
        "y_test = tf.keras.utils.to_categorical(y_test, num_classes=3)"
      ],
      "execution_count": 0,
      "outputs": []
    },
    {
      "cell_type": "markdown",
      "metadata": {
        "colab_type": "text",
        "id": "ovjLyYzWkO9s"
      },
      "source": [
        "## Question 5"
      ]
    },
    {
      "cell_type": "markdown",
      "metadata": {
        "colab_type": "text",
        "id": "hbIFzoPNSyYo"
      },
      "source": [
        "### Initialize a sequential model\n",
        "- Define a sequential model"
      ]
    },
    {
      "cell_type": "code",
      "metadata": {
        "colab_type": "code",
        "id": "4FvSbf1UjHtl",
        "colab": {}
      },
      "source": [
        "# Initialize Sequential model\n",
        "model = tf.keras.models.Sequential()\n",
        "\n"
      ],
      "execution_count": 0,
      "outputs": []
    },
    {
      "cell_type": "markdown",
      "metadata": {
        "colab_type": "text",
        "id": "dGMy999vlacX"
      },
      "source": [
        "## Question 6"
      ]
    },
    {
      "cell_type": "markdown",
      "metadata": {
        "colab_type": "text",
        "id": "72ibK5Jxm8iL"
      },
      "source": [
        "### Add a layer\n",
        "- Use Dense Layer  with input shape of 4 (according to the feature set) and number of outputs set to 3\n",
        "- Apply Softmax on Dense Layer outputs"
      ]
    },
    {
      "cell_type": "code",
      "metadata": {
        "colab_type": "code",
        "id": "uZKrBNSRm_o9",
        "colab": {}
      },
      "source": [
        "\n",
        "# Reshape data from 2D to 1D -> 28x28 to 784\n",
        "model.add(tf.keras.layers.Reshape((4,),input_shape=(4,)))\n",
        "\n",
        "# Normalize the data\n",
        "#model.add(tf.keras.layers.BatchNormalization())\n",
        "\n",
        "# Add Dense Layer which provides 10 Outputs after applying softmax\n",
        "model.add(tf.keras.layers.Dense(3, activation='softmax'))"
      ],
      "execution_count": 0,
      "outputs": []
    },
    {
      "cell_type": "markdown",
      "metadata": {
        "colab_type": "text",
        "id": "i4uiTH8plmNX"
      },
      "source": [
        "## Question 7"
      ]
    },
    {
      "cell_type": "markdown",
      "metadata": {
        "colab_type": "text",
        "id": "yJL8n8vcSyYz"
      },
      "source": [
        "### Compile the model\n",
        "- Use SGD as Optimizer\n",
        "- Use categorical_crossentropy as loss function\n",
        "- Use accuracy as metrics"
      ]
    },
    {
      "cell_type": "code",
      "metadata": {
        "colab_type": "code",
        "id": "Tc_-fjIEk1ve",
        "colab": {}
      },
      "source": [
        "# Compile the model\n",
        "model.compile(optimizer='sgd', loss='categorical_crossentropy', metrics=['accuracy'])"
      ],
      "execution_count": 0,
      "outputs": []
    },
    {
      "cell_type": "markdown",
      "metadata": {
        "colab_type": "text",
        "id": "sihIGbRll_jT"
      },
      "source": [
        "## Question 8"
      ]
    },
    {
      "cell_type": "markdown",
      "metadata": {
        "colab_type": "text",
        "id": "54ZZCfNGlu0i"
      },
      "source": [
        "### Summarize the model\n",
        "- Check model layers\n",
        "- Understand number of trainable parameters"
      ]
    },
    {
      "cell_type": "code",
      "metadata": {
        "colab_type": "code",
        "id": "elER3F_4ln8n",
        "colab": {
          "base_uri": "https://localhost:8080/",
          "height": 119
        },
        "outputId": "2d1d3653-829b-4c48-f005-c927882058b3"
      },
      "source": [
        "print(y_train.shape)\n",
        "print('First 5 examples now are: ', trainY[0:5])"
      ],
      "execution_count": 35,
      "outputs": [
        {
          "output_type": "stream",
          "text": [
            "(112,)\n",
            "First 5 examples now are:  [[0. 1. 0.]\n",
            " [0. 1. 0.]\n",
            " [0. 0. 1.]\n",
            " [1. 0. 0.]\n",
            " [0. 0. 1.]]\n"
          ],
          "name": "stdout"
        }
      ]
    },
    {
      "cell_type": "code",
      "metadata": {
        "id": "RjO-epMc0o2S",
        "colab_type": "code",
        "colab": {
          "base_uri": "https://localhost:8080/",
          "height": 221
        },
        "outputId": "9343731b-75af-4a66-8b08-9a2e18ac3e2a"
      },
      "source": [
        "model.summary()"
      ],
      "execution_count": 36,
      "outputs": [
        {
          "output_type": "stream",
          "text": [
            "Model: \"sequential_1\"\n",
            "_________________________________________________________________\n",
            "Layer (type)                 Output Shape              Param #   \n",
            "=================================================================\n",
            "reshape_2 (Reshape)          (None, 4)                 0         \n",
            "_________________________________________________________________\n",
            "dense_2 (Dense)              (None, 3)                 15        \n",
            "=================================================================\n",
            "Total params: 15\n",
            "Trainable params: 15\n",
            "Non-trainable params: 0\n",
            "_________________________________________________________________\n"
          ],
          "name": "stdout"
        }
      ]
    },
    {
      "cell_type": "markdown",
      "metadata": {
        "colab_type": "text",
        "id": "2PiP7j3Vmj4p"
      },
      "source": [
        "## Question 9"
      ]
    },
    {
      "cell_type": "markdown",
      "metadata": {
        "colab_type": "text",
        "id": "rWdbfFCXmCHt"
      },
      "source": [
        "### Fit the model\n",
        "- Give train data as training features and labels\n",
        "- Epochs: 100\n",
        "- Give validation data as testing features and labels"
      ]
    },
    {
      "cell_type": "code",
      "metadata": {
        "colab_type": "code",
        "id": "cO1c-5tjmBVZ",
        "colab": {
          "base_uri": "https://localhost:8080/",
          "height": 1000
        },
        "outputId": "578b530a-56cb-42fe-e5ee-72bc3f2c1ff3"
      },
      "source": [
        "model.fit(X_train, y_train, validation_data=(X_test, y_test), epochs=100,\n",
        "          batch_size = X_train.shape[0])"
      ],
      "execution_count": 43,
      "outputs": [
        {
          "output_type": "stream",
          "text": [
            "Train on 112 samples, validate on 38 samples\n",
            "Epoch 1/100\n",
            "112/112 [==============================] - 1s 10ms/sample - loss: 3.3042 - accuracy: 0.3304 - val_loss: 2.4390 - val_accuracy: 0.3421\n",
            "Epoch 2/100\n",
            "112/112 [==============================] - 0s 190us/sample - loss: 2.8522 - accuracy: 0.3304 - val_loss: 2.0757 - val_accuracy: 0.3421\n",
            "Epoch 3/100\n",
            "112/112 [==============================] - 0s 124us/sample - loss: 2.4482 - accuracy: 0.3304 - val_loss: 1.7784 - val_accuracy: 0.3421\n",
            "Epoch 4/100\n",
            "112/112 [==============================] - 0s 126us/sample - loss: 2.1115 - accuracy: 0.3304 - val_loss: 1.5575 - val_accuracy: 0.3421\n",
            "Epoch 5/100\n",
            "112/112 [==============================] - 0s 125us/sample - loss: 1.8529 - accuracy: 0.3304 - val_loss: 1.4074 - val_accuracy: 0.3421\n",
            "Epoch 6/100\n",
            "112/112 [==============================] - 0s 137us/sample - loss: 1.6672 - accuracy: 0.3304 - val_loss: 1.3115 - val_accuracy: 0.2632\n",
            "Epoch 7/100\n",
            "112/112 [==============================] - 0s 127us/sample - loss: 1.5373 - accuracy: 0.3036 - val_loss: 1.2518 - val_accuracy: 0.2105\n",
            "Epoch 8/100\n",
            "112/112 [==============================] - 0s 151us/sample - loss: 1.4456 - accuracy: 0.2143 - val_loss: 1.2151 - val_accuracy: 0.0526\n",
            "Epoch 9/100\n",
            "112/112 [==============================] - 0s 141us/sample - loss: 1.3795 - accuracy: 0.1071 - val_loss: 1.1928 - val_accuracy: 0.0263\n",
            "Epoch 10/100\n",
            "112/112 [==============================] - 0s 131us/sample - loss: 1.3307 - accuracy: 0.0625 - val_loss: 1.1792 - val_accuracy: 0.0789\n",
            "Epoch 11/100\n",
            "112/112 [==============================] - 0s 134us/sample - loss: 1.2940 - accuracy: 0.0536 - val_loss: 1.1708 - val_accuracy: 0.1842\n",
            "Epoch 12/100\n",
            "112/112 [==============================] - 0s 136us/sample - loss: 1.2657 - accuracy: 0.0714 - val_loss: 1.1652 - val_accuracy: 0.2368\n",
            "Epoch 13/100\n",
            "112/112 [==============================] - 0s 155us/sample - loss: 1.2433 - accuracy: 0.0982 - val_loss: 1.1611 - val_accuracy: 0.2105\n",
            "Epoch 14/100\n",
            "112/112 [==============================] - 0s 131us/sample - loss: 1.2252 - accuracy: 0.1250 - val_loss: 1.1573 - val_accuracy: 0.2105\n",
            "Epoch 15/100\n",
            "112/112 [==============================] - 0s 142us/sample - loss: 1.2099 - accuracy: 0.1786 - val_loss: 1.1535 - val_accuracy: 0.2105\n",
            "Epoch 16/100\n",
            "112/112 [==============================] - 0s 180us/sample - loss: 1.1967 - accuracy: 0.1964 - val_loss: 1.1493 - val_accuracy: 0.2368\n",
            "Epoch 17/100\n",
            "112/112 [==============================] - 0s 153us/sample - loss: 1.1848 - accuracy: 0.1964 - val_loss: 1.1447 - val_accuracy: 0.2632\n",
            "Epoch 18/100\n",
            "112/112 [==============================] - 0s 132us/sample - loss: 1.1738 - accuracy: 0.1964 - val_loss: 1.1395 - val_accuracy: 0.2632\n",
            "Epoch 19/100\n",
            "112/112 [==============================] - 0s 140us/sample - loss: 1.1636 - accuracy: 0.1964 - val_loss: 1.1338 - val_accuracy: 0.2895\n",
            "Epoch 20/100\n",
            "112/112 [==============================] - 0s 139us/sample - loss: 1.1538 - accuracy: 0.2143 - val_loss: 1.1277 - val_accuracy: 0.3158\n",
            "Epoch 21/100\n",
            "112/112 [==============================] - 0s 146us/sample - loss: 1.1443 - accuracy: 0.2143 - val_loss: 1.1213 - val_accuracy: 0.3158\n",
            "Epoch 22/100\n",
            "112/112 [==============================] - 0s 148us/sample - loss: 1.1352 - accuracy: 0.2321 - val_loss: 1.1147 - val_accuracy: 0.3158\n",
            "Epoch 23/100\n",
            "112/112 [==============================] - 0s 186us/sample - loss: 1.1262 - accuracy: 0.2321 - val_loss: 1.1078 - val_accuracy: 0.3158\n",
            "Epoch 24/100\n",
            "112/112 [==============================] - 0s 194us/sample - loss: 1.1175 - accuracy: 0.2232 - val_loss: 1.1008 - val_accuracy: 0.3158\n",
            "Epoch 25/100\n",
            "112/112 [==============================] - 0s 140us/sample - loss: 1.1089 - accuracy: 0.2321 - val_loss: 1.0937 - val_accuracy: 0.2895\n",
            "Epoch 26/100\n",
            "112/112 [==============================] - 0s 181us/sample - loss: 1.1005 - accuracy: 0.2232 - val_loss: 1.0865 - val_accuracy: 0.2895\n",
            "Epoch 27/100\n",
            "112/112 [==============================] - 0s 132us/sample - loss: 1.0922 - accuracy: 0.2321 - val_loss: 1.0794 - val_accuracy: 0.2895\n",
            "Epoch 28/100\n",
            "112/112 [==============================] - 0s 132us/sample - loss: 1.0840 - accuracy: 0.2321 - val_loss: 1.0722 - val_accuracy: 0.2895\n",
            "Epoch 29/100\n",
            "112/112 [==============================] - 0s 139us/sample - loss: 1.0760 - accuracy: 0.2321 - val_loss: 1.0651 - val_accuracy: 0.2895\n",
            "Epoch 30/100\n",
            "112/112 [==============================] - 0s 165us/sample - loss: 1.0681 - accuracy: 0.2411 - val_loss: 1.0580 - val_accuracy: 0.2895\n",
            "Epoch 31/100\n",
            "112/112 [==============================] - 0s 146us/sample - loss: 1.0604 - accuracy: 0.2411 - val_loss: 1.0510 - val_accuracy: 0.2632\n",
            "Epoch 32/100\n",
            "112/112 [==============================] - 0s 152us/sample - loss: 1.0527 - accuracy: 0.2411 - val_loss: 1.0441 - val_accuracy: 0.2632\n",
            "Epoch 33/100\n",
            "112/112 [==============================] - 0s 134us/sample - loss: 1.0452 - accuracy: 0.2321 - val_loss: 1.0372 - val_accuracy: 0.2632\n",
            "Epoch 34/100\n",
            "112/112 [==============================] - 0s 127us/sample - loss: 1.0378 - accuracy: 0.2143 - val_loss: 1.0305 - val_accuracy: 0.2632\n",
            "Epoch 35/100\n",
            "112/112 [==============================] - 0s 116us/sample - loss: 1.0306 - accuracy: 0.2232 - val_loss: 1.0238 - val_accuracy: 0.2632\n",
            "Epoch 36/100\n",
            "112/112 [==============================] - 0s 139us/sample - loss: 1.0234 - accuracy: 0.2232 - val_loss: 1.0172 - val_accuracy: 0.2632\n",
            "Epoch 37/100\n",
            "112/112 [==============================] - 0s 127us/sample - loss: 1.0163 - accuracy: 0.2232 - val_loss: 1.0108 - val_accuracy: 0.2632\n",
            "Epoch 38/100\n",
            "112/112 [==============================] - 0s 112us/sample - loss: 1.0094 - accuracy: 0.2232 - val_loss: 1.0044 - val_accuracy: 0.2632\n",
            "Epoch 39/100\n",
            "112/112 [==============================] - 0s 130us/sample - loss: 1.0026 - accuracy: 0.2232 - val_loss: 0.9981 - val_accuracy: 0.2632\n",
            "Epoch 40/100\n",
            "112/112 [==============================] - 0s 135us/sample - loss: 0.9959 - accuracy: 0.2232 - val_loss: 0.9919 - val_accuracy: 0.2632\n",
            "Epoch 41/100\n",
            "112/112 [==============================] - 0s 146us/sample - loss: 0.9892 - accuracy: 0.2411 - val_loss: 0.9858 - val_accuracy: 0.2632\n",
            "Epoch 42/100\n",
            "112/112 [==============================] - 0s 126us/sample - loss: 0.9827 - accuracy: 0.2500 - val_loss: 0.9798 - val_accuracy: 0.2632\n",
            "Epoch 43/100\n",
            "112/112 [==============================] - 0s 119us/sample - loss: 0.9763 - accuracy: 0.2679 - val_loss: 0.9739 - val_accuracy: 0.2632\n",
            "Epoch 44/100\n",
            "112/112 [==============================] - 0s 185us/sample - loss: 0.9700 - accuracy: 0.2768 - val_loss: 0.9681 - val_accuracy: 0.2632\n",
            "Epoch 45/100\n",
            "112/112 [==============================] - 0s 150us/sample - loss: 0.9638 - accuracy: 0.2946 - val_loss: 0.9624 - val_accuracy: 0.2632\n",
            "Epoch 46/100\n",
            "112/112 [==============================] - 0s 133us/sample - loss: 0.9577 - accuracy: 0.3036 - val_loss: 0.9568 - val_accuracy: 0.2632\n",
            "Epoch 47/100\n",
            "112/112 [==============================] - 0s 134us/sample - loss: 0.9517 - accuracy: 0.3214 - val_loss: 0.9512 - val_accuracy: 0.2632\n",
            "Epoch 48/100\n",
            "112/112 [==============================] - 0s 135us/sample - loss: 0.9458 - accuracy: 0.3304 - val_loss: 0.9458 - val_accuracy: 0.2632\n",
            "Epoch 49/100\n",
            "112/112 [==============================] - 0s 195us/sample - loss: 0.9400 - accuracy: 0.3482 - val_loss: 0.9404 - val_accuracy: 0.2895\n",
            "Epoch 50/100\n",
            "112/112 [==============================] - 0s 173us/sample - loss: 0.9343 - accuracy: 0.3839 - val_loss: 0.9352 - val_accuracy: 0.3684\n",
            "Epoch 51/100\n",
            "112/112 [==============================] - 0s 150us/sample - loss: 0.9287 - accuracy: 0.4196 - val_loss: 0.9300 - val_accuracy: 0.3947\n",
            "Epoch 52/100\n",
            "112/112 [==============================] - 0s 153us/sample - loss: 0.9231 - accuracy: 0.4375 - val_loss: 0.9249 - val_accuracy: 0.3947\n",
            "Epoch 53/100\n",
            "112/112 [==============================] - 0s 175us/sample - loss: 0.9177 - accuracy: 0.4732 - val_loss: 0.9199 - val_accuracy: 0.3947\n",
            "Epoch 54/100\n",
            "112/112 [==============================] - 0s 139us/sample - loss: 0.9123 - accuracy: 0.5089 - val_loss: 0.9149 - val_accuracy: 0.4737\n",
            "Epoch 55/100\n",
            "112/112 [==============================] - 0s 135us/sample - loss: 0.9070 - accuracy: 0.5179 - val_loss: 0.9100 - val_accuracy: 0.4737\n",
            "Epoch 56/100\n",
            "112/112 [==============================] - 0s 122us/sample - loss: 0.9018 - accuracy: 0.5357 - val_loss: 0.9053 - val_accuracy: 0.4737\n",
            "Epoch 57/100\n",
            "112/112 [==============================] - 0s 142us/sample - loss: 0.8967 - accuracy: 0.5357 - val_loss: 0.9005 - val_accuracy: 0.5000\n",
            "Epoch 58/100\n",
            "112/112 [==============================] - 0s 145us/sample - loss: 0.8916 - accuracy: 0.5446 - val_loss: 0.8959 - val_accuracy: 0.5263\n",
            "Epoch 59/100\n",
            "112/112 [==============================] - 0s 149us/sample - loss: 0.8867 - accuracy: 0.5446 - val_loss: 0.8913 - val_accuracy: 0.5263\n",
            "Epoch 60/100\n",
            "112/112 [==============================] - 0s 142us/sample - loss: 0.8818 - accuracy: 0.5625 - val_loss: 0.8868 - val_accuracy: 0.5526\n",
            "Epoch 61/100\n",
            "112/112 [==============================] - 0s 143us/sample - loss: 0.8770 - accuracy: 0.5625 - val_loss: 0.8824 - val_accuracy: 0.5526\n",
            "Epoch 62/100\n",
            "112/112 [==============================] - 0s 135us/sample - loss: 0.8722 - accuracy: 0.5625 - val_loss: 0.8780 - val_accuracy: 0.5789\n",
            "Epoch 63/100\n",
            "112/112 [==============================] - 0s 136us/sample - loss: 0.8676 - accuracy: 0.5625 - val_loss: 0.8737 - val_accuracy: 0.5789\n",
            "Epoch 64/100\n",
            "112/112 [==============================] - 0s 148us/sample - loss: 0.8630 - accuracy: 0.5714 - val_loss: 0.8695 - val_accuracy: 0.5789\n",
            "Epoch 65/100\n",
            "112/112 [==============================] - 0s 127us/sample - loss: 0.8584 - accuracy: 0.5804 - val_loss: 0.8654 - val_accuracy: 0.6053\n",
            "Epoch 66/100\n",
            "112/112 [==============================] - 0s 137us/sample - loss: 0.8540 - accuracy: 0.5804 - val_loss: 0.8613 - val_accuracy: 0.6053\n",
            "Epoch 67/100\n",
            "112/112 [==============================] - 0s 142us/sample - loss: 0.8496 - accuracy: 0.5893 - val_loss: 0.8572 - val_accuracy: 0.6316\n",
            "Epoch 68/100\n",
            "112/112 [==============================] - 0s 138us/sample - loss: 0.8453 - accuracy: 0.5893 - val_loss: 0.8532 - val_accuracy: 0.6316\n",
            "Epoch 69/100\n",
            "112/112 [==============================] - 0s 143us/sample - loss: 0.8410 - accuracy: 0.5982 - val_loss: 0.8493 - val_accuracy: 0.6579\n",
            "Epoch 70/100\n",
            "112/112 [==============================] - 0s 194us/sample - loss: 0.8368 - accuracy: 0.6071 - val_loss: 0.8455 - val_accuracy: 0.6579\n",
            "Epoch 71/100\n",
            "112/112 [==============================] - 0s 146us/sample - loss: 0.8327 - accuracy: 0.6161 - val_loss: 0.8417 - val_accuracy: 0.6579\n",
            "Epoch 72/100\n",
            "112/112 [==============================] - 0s 175us/sample - loss: 0.8286 - accuracy: 0.6250 - val_loss: 0.8379 - val_accuracy: 0.6579\n",
            "Epoch 73/100\n",
            "112/112 [==============================] - 0s 139us/sample - loss: 0.8246 - accuracy: 0.6250 - val_loss: 0.8342 - val_accuracy: 0.6579\n",
            "Epoch 74/100\n",
            "112/112 [==============================] - 0s 149us/sample - loss: 0.8207 - accuracy: 0.6250 - val_loss: 0.8306 - val_accuracy: 0.6579\n",
            "Epoch 75/100\n",
            "112/112 [==============================] - 0s 157us/sample - loss: 0.8168 - accuracy: 0.6250 - val_loss: 0.8270 - val_accuracy: 0.6579\n",
            "Epoch 76/100\n",
            "112/112 [==============================] - 0s 153us/sample - loss: 0.8129 - accuracy: 0.6250 - val_loss: 0.8235 - val_accuracy: 0.6579\n",
            "Epoch 77/100\n",
            "112/112 [==============================] - 0s 174us/sample - loss: 0.8092 - accuracy: 0.6250 - val_loss: 0.8200 - val_accuracy: 0.6579\n",
            "Epoch 78/100\n",
            "112/112 [==============================] - 0s 166us/sample - loss: 0.8054 - accuracy: 0.6250 - val_loss: 0.8166 - val_accuracy: 0.6579\n",
            "Epoch 79/100\n",
            "112/112 [==============================] - 0s 188us/sample - loss: 0.8018 - accuracy: 0.6339 - val_loss: 0.8132 - val_accuracy: 0.6579\n",
            "Epoch 80/100\n",
            "112/112 [==============================] - 0s 162us/sample - loss: 0.7981 - accuracy: 0.6339 - val_loss: 0.8099 - val_accuracy: 0.6579\n",
            "Epoch 81/100\n",
            "112/112 [==============================] - 0s 168us/sample - loss: 0.7946 - accuracy: 0.6339 - val_loss: 0.8066 - val_accuracy: 0.6579\n",
            "Epoch 82/100\n",
            "112/112 [==============================] - 0s 157us/sample - loss: 0.7911 - accuracy: 0.6339 - val_loss: 0.8034 - val_accuracy: 0.6579\n",
            "Epoch 83/100\n",
            "112/112 [==============================] - 0s 160us/sample - loss: 0.7876 - accuracy: 0.6339 - val_loss: 0.8002 - val_accuracy: 0.6579\n",
            "Epoch 84/100\n",
            "112/112 [==============================] - 0s 165us/sample - loss: 0.7842 - accuracy: 0.6339 - val_loss: 0.7970 - val_accuracy: 0.6579\n",
            "Epoch 85/100\n",
            "112/112 [==============================] - 0s 141us/sample - loss: 0.7808 - accuracy: 0.6339 - val_loss: 0.7939 - val_accuracy: 0.6579\n",
            "Epoch 86/100\n",
            "112/112 [==============================] - 0s 122us/sample - loss: 0.7775 - accuracy: 0.6339 - val_loss: 0.7909 - val_accuracy: 0.6579\n",
            "Epoch 87/100\n",
            "112/112 [==============================] - 0s 135us/sample - loss: 0.7742 - accuracy: 0.6518 - val_loss: 0.7878 - val_accuracy: 0.6579\n",
            "Epoch 88/100\n",
            "112/112 [==============================] - 0s 169us/sample - loss: 0.7710 - accuracy: 0.6518 - val_loss: 0.7849 - val_accuracy: 0.6579\n",
            "Epoch 89/100\n",
            "112/112 [==============================] - 0s 131us/sample - loss: 0.7678 - accuracy: 0.6518 - val_loss: 0.7819 - val_accuracy: 0.6579\n",
            "Epoch 90/100\n",
            "112/112 [==============================] - 0s 155us/sample - loss: 0.7646 - accuracy: 0.6518 - val_loss: 0.7790 - val_accuracy: 0.6579\n",
            "Epoch 91/100\n",
            "112/112 [==============================] - 0s 130us/sample - loss: 0.7615 - accuracy: 0.6607 - val_loss: 0.7762 - val_accuracy: 0.6579\n",
            "Epoch 92/100\n",
            "112/112 [==============================] - 0s 138us/sample - loss: 0.7585 - accuracy: 0.6607 - val_loss: 0.7734 - val_accuracy: 0.6579\n",
            "Epoch 93/100\n",
            "112/112 [==============================] - 0s 131us/sample - loss: 0.7555 - accuracy: 0.6786 - val_loss: 0.7706 - val_accuracy: 0.6579\n",
            "Epoch 94/100\n",
            "112/112 [==============================] - 0s 110us/sample - loss: 0.7525 - accuracy: 0.6786 - val_loss: 0.7678 - val_accuracy: 0.6579\n",
            "Epoch 95/100\n",
            "112/112 [==============================] - 0s 157us/sample - loss: 0.7495 - accuracy: 0.6786 - val_loss: 0.7651 - val_accuracy: 0.6579\n",
            "Epoch 96/100\n",
            "112/112 [==============================] - 0s 142us/sample - loss: 0.7466 - accuracy: 0.6786 - val_loss: 0.7625 - val_accuracy: 0.6579\n",
            "Epoch 97/100\n",
            "112/112 [==============================] - 0s 134us/sample - loss: 0.7438 - accuracy: 0.6786 - val_loss: 0.7598 - val_accuracy: 0.6579\n",
            "Epoch 98/100\n",
            "112/112 [==============================] - 0s 140us/sample - loss: 0.7410 - accuracy: 0.6786 - val_loss: 0.7572 - val_accuracy: 0.6579\n",
            "Epoch 99/100\n",
            "112/112 [==============================] - 0s 146us/sample - loss: 0.7382 - accuracy: 0.6875 - val_loss: 0.7547 - val_accuracy: 0.6579\n",
            "Epoch 100/100\n",
            "112/112 [==============================] - 0s 150us/sample - loss: 0.7354 - accuracy: 0.6875 - val_loss: 0.7521 - val_accuracy: 0.6579\n"
          ],
          "name": "stdout"
        },
        {
          "output_type": "execute_result",
          "data": {
            "text/plain": [
              "<tensorflow.python.keras.callbacks.History at 0x7f339a716048>"
            ]
          },
          "metadata": {
            "tags": []
          },
          "execution_count": 43
        }
      ]
    },
    {
      "cell_type": "markdown",
      "metadata": {
        "colab_type": "text",
        "id": "re9ItAR3yS3J"
      },
      "source": [
        "## Question 10"
      ]
    },
    {
      "cell_type": "markdown",
      "metadata": {
        "colab_type": "text",
        "id": "liw0IFf9yVqH"
      },
      "source": [
        "### Make predictions\n",
        "- Predict labels on one row"
      ]
    },
    {
      "cell_type": "code",
      "metadata": {
        "colab_type": "code",
        "id": "H5sBybi6mlLl",
        "colab": {}
      },
      "source": [
        "y_pred = model.predict(X_test)"
      ],
      "execution_count": 0,
      "outputs": []
    },
    {
      "cell_type": "code",
      "metadata": {
        "id": "G2M0eKC95qU8",
        "colab_type": "code",
        "colab": {
          "base_uri": "https://localhost:8080/",
          "height": 34
        },
        "outputId": "e19cd72d-3258-4406-bb4f-a256a332e4fb"
      },
      "source": [
        "y_pred[:1]"
      ],
      "execution_count": 52,
      "outputs": [
        {
          "output_type": "execute_result",
          "data": {
            "text/plain": [
              "array([[0.0546612 , 0.27034718, 0.6749916 ]], dtype=float32)"
            ]
          },
          "metadata": {
            "tags": []
          },
          "execution_count": 52
        }
      ]
    },
    {
      "cell_type": "markdown",
      "metadata": {
        "id": "Sjn1bnWW4IOP",
        "colab_type": "text"
      },
      "source": [
        ""
      ]
    },
    {
      "cell_type": "markdown",
      "metadata": {
        "colab_type": "text",
        "id": "hSUgMq3m0bG7"
      },
      "source": [
        "### Compare the prediction with actual label\n",
        "- Print the same row as done in the previous step but of actual labels"
      ]
    },
    {
      "cell_type": "code",
      "metadata": {
        "colab_type": "code",
        "id": "K5WbwVPyz-qQ",
        "colab": {
          "base_uri": "https://localhost:8080/",
          "height": 34
        },
        "outputId": "b09ea02e-2b78-48f2-d410-e2ad7059b0bd"
      },
      "source": [
        "y_test[:1]\n"
      ],
      "execution_count": 55,
      "outputs": [
        {
          "output_type": "execute_result",
          "data": {
            "text/plain": [
              "array([[0., 0., 1.]], dtype=float32)"
            ]
          },
          "metadata": {
            "tags": []
          },
          "execution_count": 55
        }
      ]
    },
    {
      "cell_type": "markdown",
      "metadata": {
        "colab_type": "text",
        "id": "FrTKwbgE7NFT"
      },
      "source": [
        "\n",
        "\n",
        "---\n",
        "\n"
      ]
    },
    {
      "cell_type": "markdown",
      "metadata": {
        "colab_type": "text",
        "id": "a1UBYPNp5Tn1"
      },
      "source": [
        "# Stock prices dataset\n",
        "The data is of tock exchange's stock listings for each trading day of 2010 to 2016.\n",
        "\n",
        "## Description\n",
        "A brief description of columns.\n",
        "- open: The opening market price of the equity symbol on the date\n",
        "- high: The highest market price of the equity symbol on the date\n",
        "- low: The lowest recorded market price of the equity symbol on the date\n",
        "- close: The closing recorded price of the equity symbol on the date\n",
        "- symbol: Symbol of the listed company\n",
        "- volume: Total traded volume of the equity symbol on the date\n",
        "- date: Date of record"
      ]
    },
    {
      "cell_type": "markdown",
      "metadata": {
        "colab_type": "text",
        "id": "ctH_ZW5g-M3g"
      },
      "source": [
        "### Specifying the TensorFlow version\n",
        "Running `import tensorflow` will import the default version (currently 1.x). You can use 2.x by running a cell with the `tensorflow_version` magic **before** you run `import tensorflow`."
      ]
    },
    {
      "cell_type": "code",
      "metadata": {
        "colab_type": "code",
        "id": "vQbdODpH-M3r",
        "colab": {}
      },
      "source": [
        "%tensorflow_version 2.x"
      ],
      "execution_count": 0,
      "outputs": []
    },
    {
      "cell_type": "markdown",
      "metadata": {
        "colab_type": "text",
        "id": "nFQWH1tj-M38"
      },
      "source": [
        "### Import TensorFlow\n",
        "Once you have specified a version via this magic, you can run `import tensorflow` as normal and verify which version was imported as follows:"
      ]
    },
    {
      "cell_type": "code",
      "metadata": {
        "colab_type": "code",
        "id": "Ho5n-xhd-M3_",
        "colab": {
          "base_uri": "https://localhost:8080/",
          "height": 34
        },
        "outputId": "1ecb2c65-d49e-435d-e182-11902bfd4047"
      },
      "source": [
        "import tensorflow as tf\n",
        "print(tf.__version__)"
      ],
      "execution_count": 57,
      "outputs": [
        {
          "output_type": "stream",
          "text": [
            "2.0.0\n"
          ],
          "name": "stdout"
        }
      ]
    },
    {
      "cell_type": "markdown",
      "metadata": {
        "colab_type": "text",
        "id": "tgkl0qu6-M4F"
      },
      "source": [
        "### Set random seed"
      ]
    },
    {
      "cell_type": "code",
      "metadata": {
        "colab_type": "code",
        "id": "TKgTyuA3-M4G",
        "colab": {}
      },
      "source": [
        "tf.random.set_seed(42)"
      ],
      "execution_count": 0,
      "outputs": []
    },
    {
      "cell_type": "markdown",
      "metadata": {
        "colab_type": "text",
        "id": "_88voqAH-O6J"
      },
      "source": [
        "## Question 1"
      ]
    },
    {
      "cell_type": "markdown",
      "metadata": {
        "colab_type": "text",
        "id": "dRHCeJqP-evf"
      },
      "source": [
        "### Load the data\n",
        "- load the csv file and read it using pandas\n",
        "- file name is prices.csv"
      ]
    },
    {
      "cell_type": "code",
      "metadata": {
        "colab_type": "code",
        "id": "cKVH5v7r-RmC",
        "colab": {}
      },
      "source": [
        "# run this cell to upload file if you are using google colab\n",
        "from google.colab import files\n",
        "#files.upload()"
      ],
      "execution_count": 0,
      "outputs": []
    },
    {
      "cell_type": "code",
      "metadata": {
        "id": "5q68R6OT79Ky",
        "colab_type": "code",
        "colab": {
          "base_uri": "https://localhost:8080/",
          "height": 122
        },
        "outputId": "0661c114-f003-449f-a786-9c05fdb1ad0b"
      },
      "source": [
        "from google.colab import drive\n",
        "drive.mount('/content/gdrive')"
      ],
      "execution_count": 66,
      "outputs": [
        {
          "output_type": "stream",
          "text": [
            "Go to this URL in a browser: https://accounts.google.com/o/oauth2/auth?client_id=947318989803-6bn6qk8qdgf4n4g3pfee6491hc0brc4i.apps.googleusercontent.com&redirect_uri=urn%3aietf%3awg%3aoauth%3a2.0%3aoob&response_type=code&scope=email%20https%3a%2f%2fwww.googleapis.com%2fauth%2fdocs.test%20https%3a%2f%2fwww.googleapis.com%2fauth%2fdrive%20https%3a%2f%2fwww.googleapis.com%2fauth%2fdrive.photos.readonly%20https%3a%2f%2fwww.googleapis.com%2fauth%2fpeopleapi.readonly\n",
            "\n",
            "Enter your authorization code:\n",
            "··········\n",
            "Mounted at /content/gdrive\n"
          ],
          "name": "stdout"
        }
      ]
    },
    {
      "cell_type": "code",
      "metadata": {
        "colab_type": "code",
        "id": "-gDC6cSW_FSK",
        "colab": {}
      },
      "source": [
        "\n",
        "\n",
        "\n",
        "import pandas as pd\n",
        "import numpy as np\n",
        "prices=pd.read_csv(\"/content/gdrive/My Drive/Colab Notebooks/prices-1.csv\")\n",
        "\n",
        "\n",
        "\n"
      ],
      "execution_count": 0,
      "outputs": []
    },
    {
      "cell_type": "markdown",
      "metadata": {
        "colab_type": "text",
        "id": "HlLKVPVH_BCT"
      },
      "source": [
        "## Question 2"
      ]
    },
    {
      "cell_type": "markdown",
      "metadata": {
        "colab_type": "text",
        "id": "9J4BlzVA_gZd"
      },
      "source": [
        "### Drop columnns\n",
        "- drop \"date\" and \"symbol\" column from the data"
      ]
    },
    {
      "cell_type": "code",
      "metadata": {
        "colab_type": "code",
        "id": "IKEK8aEE_Csx",
        "colab": {}
      },
      "source": [
        "prices=prices.drop([\"date\",\"symbol\"],axis=1)"
      ],
      "execution_count": 0,
      "outputs": []
    },
    {
      "cell_type": "markdown",
      "metadata": {
        "colab_type": "text",
        "id": "cTPhO6v-AiZt"
      },
      "source": [
        "## Question 3"
      ]
    },
    {
      "cell_type": "markdown",
      "metadata": {
        "colab_type": "text",
        "id": "SsZXmF3NAkna"
      },
      "source": [
        "### Take initial rows\n",
        "- Take first 1000 rows from the data\n",
        "- This step is done to make the execution faster"
      ]
    },
    {
      "cell_type": "code",
      "metadata": {
        "colab_type": "code",
        "id": "aKs04iIHAjxN",
        "colab": {
          "base_uri": "https://localhost:8080/",
          "height": 204
        },
        "outputId": "4d6ce41c-d7c3-4b45-fe29-85f7217654df"
      },
      "source": [
        "prices=prices[:1000]\n",
        "prices.head()"
      ],
      "execution_count": 71,
      "outputs": [
        {
          "output_type": "execute_result",
          "data": {
            "text/html": [
              "<div>\n",
              "<style scoped>\n",
              "    .dataframe tbody tr th:only-of-type {\n",
              "        vertical-align: middle;\n",
              "    }\n",
              "\n",
              "    .dataframe tbody tr th {\n",
              "        vertical-align: top;\n",
              "    }\n",
              "\n",
              "    .dataframe thead th {\n",
              "        text-align: right;\n",
              "    }\n",
              "</style>\n",
              "<table border=\"1\" class=\"dataframe\">\n",
              "  <thead>\n",
              "    <tr style=\"text-align: right;\">\n",
              "      <th></th>\n",
              "      <th>open</th>\n",
              "      <th>close</th>\n",
              "      <th>low</th>\n",
              "      <th>high</th>\n",
              "      <th>volume</th>\n",
              "    </tr>\n",
              "  </thead>\n",
              "  <tbody>\n",
              "    <tr>\n",
              "      <th>0</th>\n",
              "      <td>123.430000</td>\n",
              "      <td>125.839996</td>\n",
              "      <td>122.309998</td>\n",
              "      <td>126.250000</td>\n",
              "      <td>2163600.0</td>\n",
              "    </tr>\n",
              "    <tr>\n",
              "      <th>1</th>\n",
              "      <td>125.239998</td>\n",
              "      <td>119.980003</td>\n",
              "      <td>119.940002</td>\n",
              "      <td>125.540001</td>\n",
              "      <td>2386400.0</td>\n",
              "    </tr>\n",
              "    <tr>\n",
              "      <th>2</th>\n",
              "      <td>116.379997</td>\n",
              "      <td>114.949997</td>\n",
              "      <td>114.930000</td>\n",
              "      <td>119.739998</td>\n",
              "      <td>2489500.0</td>\n",
              "    </tr>\n",
              "    <tr>\n",
              "      <th>3</th>\n",
              "      <td>115.480003</td>\n",
              "      <td>116.620003</td>\n",
              "      <td>113.500000</td>\n",
              "      <td>117.440002</td>\n",
              "      <td>2006300.0</td>\n",
              "    </tr>\n",
              "    <tr>\n",
              "      <th>4</th>\n",
              "      <td>117.010002</td>\n",
              "      <td>114.970001</td>\n",
              "      <td>114.089996</td>\n",
              "      <td>117.330002</td>\n",
              "      <td>1408600.0</td>\n",
              "    </tr>\n",
              "  </tbody>\n",
              "</table>\n",
              "</div>"
            ],
            "text/plain": [
              "         open       close         low        high     volume\n",
              "0  123.430000  125.839996  122.309998  126.250000  2163600.0\n",
              "1  125.239998  119.980003  119.940002  125.540001  2386400.0\n",
              "2  116.379997  114.949997  114.930000  119.739998  2489500.0\n",
              "3  115.480003  116.620003  113.500000  117.440002  2006300.0\n",
              "4  117.010002  114.970001  114.089996  117.330002  1408600.0"
            ]
          },
          "metadata": {
            "tags": []
          },
          "execution_count": 71
        }
      ]
    },
    {
      "cell_type": "markdown",
      "metadata": {
        "colab_type": "text",
        "id": "6vGtnapgBIJm"
      },
      "source": [
        "## Question 4"
      ]
    },
    {
      "cell_type": "markdown",
      "metadata": {
        "colab_type": "text",
        "id": "C8u_jlbABTip"
      },
      "source": [
        "### Get features and label from the dataset in separate variable\n",
        "- Take \"open\", \"close\", \"low\", \"high\" columns as features\n",
        "- Take \"volume\" column as label\n",
        "- Normalize label column by dividing it with 1000000"
      ]
    },
    {
      "cell_type": "code",
      "metadata": {
        "colab_type": "code",
        "id": "xQjCMzUXBJbg",
        "colab": {}
      },
      "source": [
        "X= prices.drop([\"volume\"],axis = 1)\n",
        "y = prices[\"volume\"]\n",
        "y = y/1000000"
      ],
      "execution_count": 0,
      "outputs": []
    },
    {
      "cell_type": "markdown",
      "metadata": {
        "colab_type": "text",
        "id": "aTAKzlxZBz0z"
      },
      "source": [
        "## Question 5"
      ]
    },
    {
      "cell_type": "markdown",
      "metadata": {
        "colab_type": "text",
        "id": "IfY8Km1Zzyt2"
      },
      "source": [
        "### Convert data\n",
        "- Convert features and labels to numpy array\n",
        "- Convert their data type to \"float32\""
      ]
    },
    {
      "cell_type": "code",
      "metadata": {
        "colab_type": "code",
        "id": "Ko7nnQVbYENh",
        "colab": {}
      },
      "source": [
        "X = X.astype('float32')\n",
        "y = y.astype('float32')"
      ],
      "execution_count": 0,
      "outputs": []
    },
    {
      "cell_type": "code",
      "metadata": {
        "id": "cJDH52LY_KMm",
        "colab_type": "code",
        "colab": {}
      },
      "source": [
        "X =np.array(X)\n",
        "y =np.array(y)"
      ],
      "execution_count": 0,
      "outputs": []
    },
    {
      "cell_type": "markdown",
      "metadata": {
        "colab_type": "text",
        "id": "3TWpN0nVTpUx"
      },
      "source": [
        "## Question 6"
      ]
    },
    {
      "cell_type": "markdown",
      "metadata": {
        "colab_type": "text",
        "id": "WQ1FKEs-4btX"
      },
      "source": [
        "### Normalize data\n",
        "- Normalize features\n",
        "- Use tf.math.l2_normalize to normalize features\n",
        "- You can read more about it here https://www.tensorflow.org/api_docs/python/tf/math/l2_normalize"
      ]
    },
    {
      "cell_type": "code",
      "metadata": {
        "colab_type": "code",
        "id": "V0Tfe00X78wB",
        "colab": {}
      },
      "source": [
        "X = tf.math.l2_normalize(X)"
      ],
      "execution_count": 0,
      "outputs": []
    },
    {
      "cell_type": "markdown",
      "metadata": {
        "colab_type": "text",
        "id": "wmXUGc2oTspa"
      },
      "source": [
        "## Question 7"
      ]
    },
    {
      "cell_type": "markdown",
      "metadata": {
        "colab_type": "text",
        "id": "VJelDMpzxs0L"
      },
      "source": [
        "### Define weight and bias\n",
        "- Initialize weight and bias with tf.zeros\n",
        "- tf.zeros is an initializer that generates tensors initialized to 0\n",
        "- Specify the value for shape"
      ]
    },
    {
      "cell_type": "code",
      "metadata": {
        "colab_type": "code",
        "id": "8o9RPWVTxs0O",
        "colab": {}
      },
      "source": [
        "W = tf.zeros(shape=(4, 1))\n",
        "b = tf.zeros(shape=(1))"
      ],
      "execution_count": 0,
      "outputs": []
    },
    {
      "cell_type": "markdown",
      "metadata": {
        "colab_type": "text",
        "id": "8a0wr94aTyjg"
      },
      "source": [
        "## Question 8"
      ]
    },
    {
      "cell_type": "markdown",
      "metadata": {
        "colab_type": "text",
        "id": "zMXXYdOSxs0Q"
      },
      "source": [
        "### Get prediction\n",
        "- Define a function to get prediction\n",
        "- Approach: prediction = (X * W) + b; here is X is features"
      ]
    },
    {
      "cell_type": "code",
      "metadata": {
        "colab_type": "code",
        "id": "U8Cty1y0xs0S",
        "colab": {}
      },
      "source": [
        "@tf.function\n",
        "def prediction(X, W, b):\n",
        "    y_pred = tf.add(tf.matmul(X, W), b)\n",
        "    return y_pred"
      ],
      "execution_count": 0,
      "outputs": []
    },
    {
      "cell_type": "markdown",
      "metadata": {
        "colab_type": "text",
        "id": "lQmS3Tauxs0V"
      },
      "source": [
        "### Calculate loss\n",
        "- Calculate loss using predictions\n",
        "- Define a function to calculate loss\n",
        "- We are calculating mean squared error"
      ]
    },
    {
      "cell_type": "code",
      "metadata": {
        "colab_type": "code",
        "id": "-FRXmDd5xs0X",
        "colab": {}
      },
      "source": [
        "@tf.function\n",
        "def loss(y_actual, y_predicted):\n",
        "    diff = y_actual - y_predicted\n",
        "    sqr = tf.square(diff)\n",
        "    avg = tf.reduce_mean(sqr)\n",
        "    return avg"
      ],
      "execution_count": 0,
      "outputs": []
    },
    {
      "cell_type": "markdown",
      "metadata": {
        "colab_type": "text",
        "id": "ZbBpnOtfT0wd"
      },
      "source": [
        "## Question 9"
      ]
    },
    {
      "cell_type": "markdown",
      "metadata": {
        "colab_type": "text",
        "id": "bkOzAUUsTmF_"
      },
      "source": [
        "### Define a function to train the model\n",
        "1.   Record all the mathematical steps to calculate Loss\n",
        "2.   Calculate Gradients of Loss w.r.t weights and bias\n",
        "3.   Update Weights and Bias based on gradients and learning rate to minimize loss"
      ]
    },
    {
      "cell_type": "code",
      "metadata": {
        "colab_type": "code",
        "id": "2R4uieGYLYtM",
        "colab": {}
      },
      "source": [
        "@tf.function\n",
        "def train(x, y_actual, W, b, learning_rate=0.01):\n",
        "    \n",
        "    # Record mathematical operations on 'tape' to calculate loss\n",
        "    with tf.GradientTape() as t:\n",
        "        t.watch([W,b])\n",
        "        current_prediction = prediction(x, W, b)\n",
        "        current_loss = loss(y_actual, current_prediction)\n",
        "    \n",
        "    # Calculate Gradients for Loss with respect to Weights and Bias\n",
        "    dw, db = t.gradient(current_loss,[W, b])\n",
        "    \n",
        "    # Update Weights and Bias\n",
        "    W = W - learning_rate * dw\n",
        "    b = b - learning_rate * db\n",
        "    \n",
        "    return W, b"
      ],
      "execution_count": 0,
      "outputs": []
    },
    {
      "cell_type": "markdown",
      "metadata": {
        "colab_type": "text",
        "id": "AW4SEP8kT2ls"
      },
      "source": [
        "## Question 10"
      ]
    },
    {
      "cell_type": "markdown",
      "metadata": {
        "colab_type": "text",
        "id": "yeN0deOvT81N"
      },
      "source": [
        "### Train the model for 100 epochs \n",
        "- Observe the training loss at every iteration"
      ]
    },
    {
      "cell_type": "code",
      "metadata": {
        "id": "2vidSDkyDyD8",
        "colab_type": "code",
        "colab": {}
      },
      "source": [
        ""
      ],
      "execution_count": 0,
      "outputs": []
    },
    {
      "cell_type": "code",
      "metadata": {
        "colab_type": "code",
        "id": "Jjkn4gUgLevE",
        "colab": {
          "base_uri": "https://localhost:8080/",
          "height": 1000
        },
        "outputId": "b500aab5-46a6-4206-e331-f2f5a1a13ec4"
      },
      "source": [
        "for i in range(100):    \n",
        "    W, b = train(X, y, W, b)\n",
        "    print('Current Training Loss on iteration', i, loss(y, prediction(X, W, b)).numpy())"
      ],
      "execution_count": 121,
      "outputs": [
        {
          "output_type": "stream",
          "text": [
            "Current Training Loss on iteration 0 236.16759\n",
            "Current Training Loss on iteration 1 235.09299\n",
            "Current Training Loss on iteration 2 234.06102\n",
            "Current Training Loss on iteration 3 233.06998\n",
            "Current Training Loss on iteration 4 232.11781\n",
            "Current Training Loss on iteration 5 231.20381\n",
            "Current Training Loss on iteration 6 230.32585\n",
            "Current Training Loss on iteration 7 229.48265\n",
            "Current Training Loss on iteration 8 228.67297\n",
            "Current Training Loss on iteration 9 227.89539\n",
            "Current Training Loss on iteration 10 227.14832\n",
            "Current Training Loss on iteration 11 226.43114\n",
            "Current Training Loss on iteration 12 225.74234\n",
            "Current Training Loss on iteration 13 225.0808\n",
            "Current Training Loss on iteration 14 224.44553\n",
            "Current Training Loss on iteration 15 223.835\n",
            "Current Training Loss on iteration 16 223.24931\n",
            "Current Training Loss on iteration 17 222.68655\n",
            "Current Training Loss on iteration 18 222.14595\n",
            "Current Training Loss on iteration 19 221.62688\n",
            "Current Training Loss on iteration 20 221.12842\n",
            "Current Training Loss on iteration 21 220.6498\n",
            "Current Training Loss on iteration 22 220.18993\n",
            "Current Training Loss on iteration 23 219.74841\n",
            "Current Training Loss on iteration 24 219.32425\n",
            "Current Training Loss on iteration 25 218.91705\n",
            "Current Training Loss on iteration 26 218.52579\n",
            "Current Training Loss on iteration 27 218.15027\n",
            "Current Training Loss on iteration 28 217.78957\n",
            "Current Training Loss on iteration 29 217.44315\n",
            "Current Training Loss on iteration 30 217.11034\n",
            "Current Training Loss on iteration 31 216.79077\n",
            "Current Training Loss on iteration 32 216.48412\n",
            "Current Training Loss on iteration 33 216.18932\n",
            "Current Training Loss on iteration 34 215.90611\n",
            "Current Training Loss on iteration 35 215.63437\n",
            "Current Training Loss on iteration 36 215.37334\n",
            "Current Training Loss on iteration 37 215.12263\n",
            "Current Training Loss on iteration 38 214.88185\n",
            "Current Training Loss on iteration 39 214.65053\n",
            "Current Training Loss on iteration 40 214.42859\n",
            "Current Training Loss on iteration 41 214.21527\n",
            "Current Training Loss on iteration 42 214.01044\n",
            "Current Training Loss on iteration 43 213.81369\n",
            "Current Training Loss on iteration 44 213.62482\n",
            "Current Training Loss on iteration 45 213.44333\n",
            "Current Training Loss on iteration 46 213.2691\n",
            "Current Training Loss on iteration 47 213.10179\n",
            "Current Training Loss on iteration 48 212.94106\n",
            "Current Training Loss on iteration 49 212.78687\n",
            "Current Training Loss on iteration 50 212.63857\n",
            "Current Training Loss on iteration 51 212.4961\n",
            "Current Training Loss on iteration 52 212.35948\n",
            "Current Training Loss on iteration 53 212.22816\n",
            "Current Training Loss on iteration 54 212.10205\n",
            "Current Training Loss on iteration 55 211.98093\n",
            "Current Training Loss on iteration 56 211.86461\n",
            "Current Training Loss on iteration 57 211.75293\n",
            "Current Training Loss on iteration 58 211.64558\n",
            "Current Training Loss on iteration 59 211.54266\n",
            "Current Training Loss on iteration 60 211.44374\n",
            "Current Training Loss on iteration 61 211.34874\n",
            "Current Training Loss on iteration 62 211.2575\n",
            "Current Training Loss on iteration 63 211.16982\n",
            "Current Training Loss on iteration 64 211.08572\n",
            "Current Training Loss on iteration 65 211.00484\n",
            "Current Training Loss on iteration 66 210.92729\n",
            "Current Training Loss on iteration 67 210.85278\n",
            "Current Training Loss on iteration 68 210.78104\n",
            "Current Training Loss on iteration 69 210.71225\n",
            "Current Training Loss on iteration 70 210.64633\n",
            "Current Training Loss on iteration 71 210.58289\n",
            "Current Training Loss on iteration 72 210.52199\n",
            "Current Training Loss on iteration 73 210.46347\n",
            "Current Training Loss on iteration 74 210.4073\n",
            "Current Training Loss on iteration 75 210.3533\n",
            "Current Training Loss on iteration 76 210.30153\n",
            "Current Training Loss on iteration 77 210.2518\n",
            "Current Training Loss on iteration 78 210.204\n",
            "Current Training Loss on iteration 79 210.15811\n",
            "Current Training Loss on iteration 80 210.1141\n",
            "Current Training Loss on iteration 81 210.0717\n",
            "Current Training Loss on iteration 82 210.03108\n",
            "Current Training Loss on iteration 83 209.99205\n",
            "Current Training Loss on iteration 84 209.95453\n",
            "Current Training Loss on iteration 85 209.91852\n",
            "Current Training Loss on iteration 86 209.88396\n",
            "Current Training Loss on iteration 87 209.85075\n",
            "Current Training Loss on iteration 88 209.81891\n",
            "Current Training Loss on iteration 89 209.78818\n",
            "Current Training Loss on iteration 90 209.75874\n",
            "Current Training Loss on iteration 91 209.73053\n",
            "Current Training Loss on iteration 92 209.70349\n",
            "Current Training Loss on iteration 93 209.67744\n",
            "Current Training Loss on iteration 94 209.65225\n",
            "Current Training Loss on iteration 95 209.62833\n",
            "Current Training Loss on iteration 96 209.6052\n",
            "Current Training Loss on iteration 97 209.58302\n",
            "Current Training Loss on iteration 98 209.56174\n",
            "Current Training Loss on iteration 99 209.5413\n"
          ],
          "name": "stdout"
        }
      ]
    },
    {
      "cell_type": "markdown",
      "metadata": {
        "colab_type": "text",
        "id": "vanvD93FV0_k"
      },
      "source": [
        "### Observe values of Weight\n",
        "- Print the updated values"
      ]
    },
    {
      "cell_type": "code",
      "metadata": {
        "colab_type": "code",
        "id": "QSqpy4gtWaOD",
        "colab": {
          "base_uri": "https://localhost:8080/",
          "height": 85
        },
        "outputId": "95223e0e-eef7-402f-aa4a-869b568d5ef6"
      },
      "source": [
        "W.numpy()"
      ],
      "execution_count": 122,
      "outputs": [
        {
          "output_type": "execute_result",
          "data": {
            "text/plain": [
              "array([[0.0547828 ],\n",
              "       [0.05488191],\n",
              "       [0.05422735],\n",
              "       [0.05533117]], dtype=float32)"
            ]
          },
          "metadata": {
            "tags": []
          },
          "execution_count": 122
        }
      ]
    },
    {
      "cell_type": "markdown",
      "metadata": {
        "colab_type": "text",
        "id": "y9KpRupYUEwy"
      },
      "source": [
        "### Observe values of Bias\n",
        "- Print the updated values"
      ]
    },
    {
      "cell_type": "code",
      "metadata": {
        "colab_type": "code",
        "id": "bhEWkGqHWohg",
        "colab": {
          "base_uri": "https://localhost:8080/",
          "height": 34
        },
        "outputId": "63fa0ebe-5081-4a98-933d-1a8d027088a8"
      },
      "source": [
        "b.numpy()"
      ],
      "execution_count": 123,
      "outputs": [
        {
          "output_type": "execute_result",
          "data": {
            "text/plain": [
              "array([4.607657], dtype=float32)"
            ]
          },
          "metadata": {
            "tags": []
          },
          "execution_count": 123
        }
      ]
    }
  ]
}